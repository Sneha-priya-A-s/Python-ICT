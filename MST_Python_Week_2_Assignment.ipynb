{
  "nbformat": 4,
  "nbformat_minor": 0,
  "metadata": {
    "colab": {
      "provenance": [],
      "authorship_tag": "ABX9TyMzdoWToFKX17sCnYtl+3/n",
      "include_colab_link": true
    },
    "kernelspec": {
      "name": "python3",
      "display_name": "Python 3"
    },
    "language_info": {
      "name": "python"
    }
  },
  "cells": [
    {
      "cell_type": "markdown",
      "metadata": {
        "id": "view-in-github",
        "colab_type": "text"
      },
      "source": [
        "<a href=\"https://colab.research.google.com/github/Sneha-priya-A-s/Python-ICT/blob/main/MST_Python_Week_2_Assignment.ipynb\" target=\"_parent\"><img src=\"https://colab.research.google.com/assets/colab-badge.svg\" alt=\"Open In Colab\"/></a>"
      ]
    },
    {
      "cell_type": "code",
      "execution_count": 4,
      "metadata": {
        "colab": {
          "base_uri": "https://localhost:8080/"
        },
        "id": "FVzuoOkDWKg2",
        "outputId": "932a1826-f9e3-4b3f-f237-32f027aa2b36"
      },
      "outputs": [
        {
          "output_type": "stream",
          "name": "stdout",
          "text": [
            "Enter a number between 1 and 10: 3\n",
            "Too low! Try again.\n",
            "Enter a number between 1 and 10: 8\n",
            "Too low! Try again.\n",
            "Enter a number between 1 and 10: 5\n",
            "Too low! Try again.\n",
            "Enter a number between 1 and 10: 6\n",
            "Too low! Try again.\n",
            "Enter a number between 1 and 10: 7\n",
            "Too low! Try again.\n",
            "Enter a number between 1 and 10: 1\n",
            "Too low! Try again.\n",
            "Enter a number between 1 and 10: 2\n",
            "Too low! Try again.\n",
            "Enter a number between 1 and 10: 3\n",
            "Too low! Try again.\n",
            "Enter a number between 1 and 10: 4\n",
            "Too low! Try again.\n",
            "Enter a number between 1 and 10: 5\n",
            "Too low! Try again.\n",
            "Enter a number between 1 and 10: 6\n",
            "Too low! Try again.\n",
            "Enter a number between 1 and 10: 7\n",
            "Too low! Try again.\n",
            "Enter a number between 1 and 10: 8\n",
            "Too low! Try again.\n",
            "Enter a number between 1 and 10: 9\n",
            "Too low! Try again.\n",
            "Enter a number between 1 and 10: 10\n",
            "Congratulations! You guessed the number correctly!\n"
          ]
        }
      ],
      "source": [
        "import random\n",
        "secretNumber = random.randint(1, 10)\n",
        "while True:\n",
        "    guess = int(input(\"Enter a number between 1 and 10: \"))\n",
        "    if 1 <= guess <= 10:\n",
        "        break\n",
        "    else:\n",
        "        print(\"Invalid input. Please enter a number between 1 and 10.\")\n",
        "while guess != secretNumber:\n",
        "    if guess < secretNumber:\n",
        "        print(\"Too low! Try again.\")\n",
        "    else:\n",
        "        print(\"Too high! Try again.\")\n",
        "    while True:\n",
        "        guess = int(input(\"Enter a number between 1 and 10: \"))\n",
        "        if 1 <= guess <= 10:\n",
        "            break\n",
        "        else:\n",
        "            print(\"Invalid input. Please enter a number between 1 and 10.\")\n",
        "print(\"Congratulations! You guessed the number correctly!\")"
      ]
    },
    {
      "cell_type": "code",
      "source": [
        "num = int(input(\"Enter a positive integer: \"))\n",
        "\n",
        "if num < 0:\n",
        "    print(\"Invalid input. Please enter a positive integer.\")\n",
        "else:\n",
        "    factorial = 1\n",
        "    for i in range(1, num + 1):\n",
        "        factorial *= i\n",
        "    print(\"The factorial of\", num, \"is\", factorial)"
      ],
      "metadata": {
        "colab": {
          "base_uri": "https://localhost:8080/"
        },
        "id": "oiIDZOfoYdcN",
        "outputId": "d9089dc7-822b-4801-9af7-7bce00def4c0"
      },
      "execution_count": 8,
      "outputs": [
        {
          "output_type": "stream",
          "name": "stdout",
          "text": [
            "Enter a positive integer: 3\n",
            "The factorial of 3 is 6\n"
          ]
        }
      ]
    },
    {
      "cell_type": "code",
      "source": [
        "L = int(input(\"Enter the minimum dimension L: \"))\n",
        "N = int(input(\"Enter the number of photos N: \"))\n",
        "for i in range(N):\n",
        "    W, H = map(int, input(\"Enter the width and height of photo {}: \".format(i+1)).split())\n",
        "    if W >= L and H >= L:\n",
        "        if W == H:\n",
        "            print(\"ACCEPTED\")\n",
        "        else:\n",
        "            print(\"CROP IT\")\n",
        "    else:\n",
        "        print(\"UPLOAD ANOTHER\")"
      ],
      "metadata": {
        "colab": {
          "base_uri": "https://localhost:8080/"
        },
        "id": "zh17t5EVZfS9",
        "outputId": "5c279010-bfec-4f37-87dd-659f500717c1"
      },
      "execution_count": 11,
      "outputs": [
        {
          "output_type": "stream",
          "name": "stdout",
          "text": [
            "Enter the minimum dimension L: 10\n",
            "Enter the number of photos N: 3\n",
            "Enter the width and height of photo 1: 800 600\n",
            "CROP IT\n",
            "Enter the width and height of photo 2: 100 100\n",
            "ACCEPTED\n",
            "Enter the width and height of photo 3: 9 100\n",
            "UPLOAD ANOTHER\n"
          ]
        }
      ]
    }
  ]
}