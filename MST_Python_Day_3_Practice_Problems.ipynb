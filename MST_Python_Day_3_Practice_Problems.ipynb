{
  "nbformat": 4,
  "nbformat_minor": 0,
  "metadata": {
    "colab": {
      "provenance": [],
      "authorship_tag": "ABX9TyPk9NhvgcWkbb9h/LKhKVPx",
      "include_colab_link": true
    },
    "kernelspec": {
      "name": "python3",
      "display_name": "Python 3"
    },
    "language_info": {
      "name": "python"
    }
  },
  "cells": [
    {
      "cell_type": "markdown",
      "metadata": {
        "id": "view-in-github",
        "colab_type": "text"
      },
      "source": [
        "<a href=\"https://colab.research.google.com/github/Sneha-priya-A-s/Python-ICT/blob/main/MST_Python_Day_3_Practice_Problems.ipynb\" target=\"_parent\"><img src=\"https://colab.research.google.com/assets/colab-badge.svg\" alt=\"Open In Colab\"/></a>"
      ]
    },
    {
      "cell_type": "code",
      "execution_count": 4,
      "metadata": {
        "colab": {
          "base_uri": "https://localhost:8080/"
        },
        "id": "K37GrcywPTUY",
        "outputId": "7b5d21b4-4880-4ac4-f00b-57825c993a61"
      },
      "outputs": [
        {
          "output_type": "stream",
          "name": "stdout",
          "text": [
            "Enter the number of scores: 6\n",
            "Enter the scores separated by space: 11 55 88 59 63 5\n",
            "The runner-up score is: 63\n"
          ]
        }
      ],
      "source": [
        "n = int(input(\"Enter the number of scores: \"))\n",
        "scores = list(map(int, input(\"Enter the scores separated by space: \").split()))\n",
        "sorted_scores = sorted(scores, reverse=True)\n",
        "runner_up_score = sorted_scores[1]\n",
        "print(\"The runner-up score is:\", runner_up_score)"
      ]
    },
    {
      "cell_type": "code",
      "source": [
        "D = {'John': [25, 32, 43], 'Peter': [87, 55, 96], 'Ram': [58, 55, 43], 'Meena': [63, 79, 85]}\n",
        "name = input(\"Enter a name: \")\n",
        "if name in D:\n",
        "    D[name] = [88, 77, 99]\n",
        "    print(D)\n",
        "else:\n",
        "    print(\"Name not found\")"
      ],
      "metadata": {
        "colab": {
          "base_uri": "https://localhost:8080/"
        },
        "id": "EGOPueF0P88O",
        "outputId": "ad09d51d-9802-40a7-825e-0cec0c120312"
      },
      "execution_count": 5,
      "outputs": [
        {
          "output_type": "stream",
          "name": "stdout",
          "text": [
            "Enter a name: niya\n",
            "Name not found\n"
          ]
        }
      ]
    },
    {
      "cell_type": "code",
      "source": [
        "age = int(input(\"Enter your age: \"))\n",
        "gender = input(\"Enter your gender (Male or Female): \").lower()\n",
        "if age < 5:\n",
        "    ticket_price = 0\n",
        "elif age <= 12:\n",
        "    ticket_price = 10\n",
        "elif age > 60:\n",
        "    ticket_price = 0\n",
        "else:\n",
        "    ticket_price = 50\n",
        "if gender == \"female\":\n",
        "    ticket_price = ticket_price * 0.5\n",
        "print(\"The ticket price is Rs.\", ticket_price)"
      ],
      "metadata": {
        "colab": {
          "base_uri": "https://localhost:8080/"
        },
        "id": "LJosaBBhQOso",
        "outputId": "bf9cb668-4fda-4bcb-905c-85dc85cd4a33"
      },
      "execution_count": 8,
      "outputs": [
        {
          "output_type": "stream",
          "name": "stdout",
          "text": [
            "Enter your age: 24\n",
            "Enter your gender (Male or Female): FEMALE\n",
            "The ticket price is Rs. 25.0\n"
          ]
        }
      ]
    }
  ]
}