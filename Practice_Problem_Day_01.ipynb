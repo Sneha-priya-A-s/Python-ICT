{
  "nbformat": 4,
  "nbformat_minor": 0,
  "metadata": {
    "colab": {
      "provenance": [],
      "authorship_tag": "ABX9TyO6qoTU/AKN26RERdrW4n/i",
      "include_colab_link": true
    },
    "kernelspec": {
      "name": "python3",
      "display_name": "Python 3"
    },
    "language_info": {
      "name": "python"
    }
  },
  "cells": [
    {
      "cell_type": "markdown",
      "metadata": {
        "id": "view-in-github",
        "colab_type": "text"
      },
      "source": [
        "<a href=\"https://colab.research.google.com/github/Sneha-priya-A-s/Python-ICT/blob/main/Practice_Problem_Day_01.ipynb\" target=\"_parent\"><img src=\"https://colab.research.google.com/assets/colab-badge.svg\" alt=\"Open In Colab\"/></a>"
      ]
    },
    {
      "cell_type": "code",
      "execution_count": 1,
      "metadata": {
        "colab": {
          "base_uri": "https://localhost:8080/"
        },
        "id": "h5JBsUydGtKm",
        "outputId": "df4dfff9-81ae-4552-fa82-1385f0678b47"
      },
      "outputs": [
        {
          "output_type": "stream",
          "name": "stdout",
          "text": [
            "Hello\n"
          ]
        }
      ],
      "source": [
        "#question no:1\n",
        "string = \"Hello, World!\"\n",
        "sub = string[:5]\n",
        "print(sub)"
      ]
    },
    {
      "cell_type": "code",
      "source": [
        "#question no:2\n",
        "string = \"Python is fun\"\n",
        "subs = string[7:9]\n",
        "print(subs)\n"
      ],
      "metadata": {
        "colab": {
          "base_uri": "https://localhost:8080/"
        },
        "id": "oTyt8bQBHPsp",
        "outputId": "802471e5-5b16-430e-938b-bef770109a9f"
      },
      "execution_count": 6,
      "outputs": [
        {
          "output_type": "stream",
          "name": "stdout",
          "text": [
            "is\n"
          ]
        }
      ]
    },
    {
      "cell_type": "code",
      "source": [
        "#question no:3\n",
        "string = \"Programming\"\n",
        "sub = string[3:7]\n",
        "print(sub)"
      ],
      "metadata": {
        "colab": {
          "base_uri": "https://localhost:8080/"
        },
        "id": "cRCAFWyRHrIQ",
        "outputId": "7c07eea9-5a1f-4e16-8223-8f8c0b413520"
      },
      "execution_count": 8,
      "outputs": [
        {
          "output_type": "stream",
          "name": "stdout",
          "text": [
            "gram\n"
          ]
        }
      ]
    },
    {
      "cell_type": "code",
      "source": [
        "#question no:4\n",
        "string = \"abcdefgh\"\n",
        "even= string[::2]\n",
        "print(even)"
      ],
      "metadata": {
        "colab": {
          "base_uri": "https://localhost:8080/"
        },
        "id": "cSzj_326I12b",
        "outputId": "01717dce-8e0e-4dc7-94a3-2df7600d1328"
      },
      "execution_count": 9,
      "outputs": [
        {
          "output_type": "stream",
          "name": "stdout",
          "text": [
            "aceg\n"
          ]
        }
      ]
    },
    {
      "cell_type": "code",
      "source": [
        "#question no:5\n",
        "string = \"abcdefg\"\n",
        "sub = string[-3:]\n",
        "print(sub)"
      ],
      "metadata": {
        "colab": {
          "base_uri": "https://localhost:8080/"
        },
        "id": "mYFnf-sTJH6A",
        "outputId": "d7601ea2-c234-499e-cea1-4473e2a99ab3"
      },
      "execution_count": 12,
      "outputs": [
        {
          "output_type": "stream",
          "name": "stdout",
          "text": [
            "efg\n"
          ]
        }
      ]
    },
    {
      "cell_type": "code",
      "source": [
        "#question no:6\n",
        "string = \"Data Science\"\n",
        "last = string[-3:]\n",
        "print(last)"
      ],
      "metadata": {
        "colab": {
          "base_uri": "https://localhost:8080/"
        },
        "id": "90mtVYoPJZ9X",
        "outputId": "ca6798bd-0d03-4c5d-cb6d-a6b0d11addad"
      },
      "execution_count": 13,
      "outputs": [
        {
          "output_type": "stream",
          "name": "stdout",
          "text": [
            "nce\n"
          ]
        }
      ]
    },
    {
      "cell_type": "code",
      "source": [
        "#question no:7\n",
        "string = \"abcdefghij\"\n",
        "second_char = string[1::2]\n",
        "print(second_char)"
      ],
      "metadata": {
        "colab": {
          "base_uri": "https://localhost:8080/"
        },
        "id": "8k4tU7ZTJy-Y",
        "outputId": "81d0fb6c-cf8f-4f6b-86e6-1e216684393e"
      },
      "execution_count": 19,
      "outputs": [
        {
          "output_type": "stream",
          "name": "stdout",
          "text": [
            "bdfhj\n"
          ]
        }
      ]
    },
    {
      "cell_type": "code",
      "source": [
        "#question no:8\n",
        "string = \"1234567890\"\n",
        "odd_digits = string[::2]\n",
        "print(odd_digits)"
      ],
      "metadata": {
        "colab": {
          "base_uri": "https://localhost:8080/"
        },
        "id": "KS-1mVeKKJEj",
        "outputId": "6b34955b-e53f-45ae-f2a0-26d51f750d4e"
      },
      "execution_count": 16,
      "outputs": [
        {
          "output_type": "stream",
          "name": "stdout",
          "text": [
            "13579\n"
          ]
        }
      ]
    },
    {
      "cell_type": "code",
      "source": [
        "#question no:9\n",
        "string = \"Hello\"\n",
        "reversed_string = string[::-1]\n",
        "print(reversed_string)"
      ],
      "metadata": {
        "colab": {
          "base_uri": "https://localhost:8080/"
        },
        "id": "Ju4jaRBZKS1h",
        "outputId": "da8496f2-05c9-44ac-c07f-8a0c73ae295f"
      },
      "execution_count": 17,
      "outputs": [
        {
          "output_type": "stream",
          "name": "stdout",
          "text": [
            "olleH\n"
          ]
        }
      ]
    },
    {
      "cell_type": "code",
      "source": [
        "#question no:10\n",
        "string = \"abcdefghijk\"\n",
        "substring = string[::2]\n",
        "print(substring)"
      ],
      "metadata": {
        "colab": {
          "base_uri": "https://localhost:8080/"
        },
        "id": "r6tm_5IhKjM4",
        "outputId": "6bd28dad-f253-466e-8a35-b29e8bbdb363"
      },
      "execution_count": 18,
      "outputs": [
        {
          "output_type": "stream",
          "name": "stdout",
          "text": [
            "acegik\n"
          ]
        }
      ]
    }
  ]
}