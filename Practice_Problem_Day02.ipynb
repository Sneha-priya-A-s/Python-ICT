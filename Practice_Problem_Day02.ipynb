{
  "nbformat": 4,
  "nbformat_minor": 0,
  "metadata": {
    "colab": {
      "provenance": [],
      "authorship_tag": "ABX9TyMQGQn/XLnft12i9Qg7oFxi",
      "include_colab_link": true
    },
    "kernelspec": {
      "name": "python3",
      "display_name": "Python 3"
    },
    "language_info": {
      "name": "python"
    }
  },
  "cells": [
    {
      "cell_type": "markdown",
      "metadata": {
        "id": "view-in-github",
        "colab_type": "text"
      },
      "source": [
        "<a href=\"https://colab.research.google.com/github/Sneha-priya-A-s/Python-ICT/blob/main/Practice_Problem_Day02.ipynb\" target=\"_parent\"><img src=\"https://colab.research.google.com/assets/colab-badge.svg\" alt=\"Open In Colab\"/></a>"
      ]
    },
    {
      "cell_type": "markdown",
      "source": [
        "1. Write a program to find sum of all elements in a list of integers."
      ],
      "metadata": {
        "id": "gt2TJLnG_8Nr"
      }
    },
    {
      "cell_type": "code",
      "execution_count": 2,
      "metadata": {
        "colab": {
          "base_uri": "https://localhost:8080/"
        },
        "id": "pu-6BK__mRMv",
        "outputId": "7dda134f-cdf4-411e-b121-62351366d6fc"
      },
      "outputs": [
        {
          "output_type": "stream",
          "name": "stdout",
          "text": [
            "Sum of all elements in the list: 150\n"
          ]
        }
      ],
      "source": [
        "#question no:1\n",
        "lst = [10, 20, 30, 40, 50]\n",
        "sum_of_elements = sum(lst)\n",
        "print(\"Sum of all elements in the list:\", sum_of_elements)"
      ]
    },
    {
      "cell_type": "markdown",
      "source": [
        "2. Input a sentence as a string.\n",
        "\n",
        "a) Print its length\n",
        "\n",
        "b) Print the first half of string"
      ],
      "metadata": {
        "id": "W-KYqU9xAFiI"
      }
    },
    {
      "cell_type": "code",
      "source": [
        "sentence = input(\"Enter a sentence: \")\n",
        "length = len(sentence)\n",
        "print(\"Length of the sentence:\", length)\n",
        "half = sentence[:length//2]\n",
        "print(\"First half of the sentence:\", half)"
      ],
      "metadata": {
        "colab": {
          "base_uri": "https://localhost:8080/"
        },
        "id": "7p5te_JWmpXB",
        "outputId": "577e0ba3-2655-4808-febe-b069255f6b05"
      },
      "execution_count": 3,
      "outputs": [
        {
          "output_type": "stream",
          "name": "stdout",
          "text": [
            "Enter a sentence: Snehapriya\n",
            "Length of the sentence: 10\n",
            "First half of the sentence: Sneha\n"
          ]
        }
      ]
    },
    {
      "cell_type": "markdown",
      "source": [
        "3. Write a program to enter a tuple of integers as\n",
        "(78,45,32,19,82,77,40,39). Change the third value in the tuple to\n",
        "100"
      ],
      "metadata": {
        "id": "VufEZ7oZAOMO"
      }
    },
    {
      "cell_type": "code",
      "source": [
        "tuple1 = (78, 45, 32, 19, 82, 77, 40, 39)\n",
        "list1 = list(tuple1)\n",
        "list1[2] = 100\n",
        "tuple2 = tuple(list1)\n",
        "print(\"Modified tuple:\",tuple2)"
      ],
      "metadata": {
        "colab": {
          "base_uri": "https://localhost:8080/"
        },
        "id": "M3rII0EynNWC",
        "outputId": "11121b5f-bd13-40b4-d322-2a2f7ae21d4d"
      },
      "execution_count": 4,
      "outputs": [
        {
          "output_type": "stream",
          "name": "stdout",
          "text": [
            "Modified tuple: (78, 45, 100, 19, 82, 77, 40, 39)\n"
          ]
        }
      ]
    },
    {
      "cell_type": "markdown",
      "source": [
        "4.Consider a list listA=[19,32,10,55,31,32,94,29,10,65,77,40,40]\n",
        "(a) Delete the first occurrence of 32\n",
        "(b) Delete all occurrences of 40\n",
        "(c) Delete the value at index=5\n",
        "(d) Modify the value at index=9 as 300\n",
        "(e) Add 200 at index=2\n",
        "(f) Print the final list with its length, maximum value\n",
        "and sum of all elements"
      ],
      "metadata": {
        "id": "MU_RiTjzo7gv"
      }
    },
    {
      "cell_type": "code",
      "source": [
        "#(a) Delete the first occurrence of 32\n",
        "lst1 = [19, 32, 10, 55, 31, 32, 94, 29, 10, 65, 77, 40, 40]\n",
        "lst1.remove(32)\n",
        "print(lst1)\n"
      ],
      "metadata": {
        "colab": {
          "base_uri": "https://localhost:8080/"
        },
        "id": "16txy-dLpDg7",
        "outputId": "5a1490b1-054e-4fb1-819e-a7a32591c514"
      },
      "execution_count": 54,
      "outputs": [
        {
          "output_type": "stream",
          "name": "stdout",
          "text": [
            "[19, 10, 55, 31, 32, 94, 29, 10, 65, 77, 40, 40]\n"
          ]
        }
      ]
    },
    {
      "cell_type": "code",
      "source": [
        "#(b) Delete all occurrences of 40\n",
        "while 40 in lst1:\n",
        "    lst1.remove(40)\n",
        "print(lst1)\n"
      ],
      "metadata": {
        "colab": {
          "base_uri": "https://localhost:8080/"
        },
        "id": "cmPovrhmpSvu",
        "outputId": "72c32853-b2db-445d-a8e9-6e6e19008090"
      },
      "execution_count": 55,
      "outputs": [
        {
          "output_type": "stream",
          "name": "stdout",
          "text": [
            "[19, 10, 55, 31, 32, 94, 29, 10, 65, 77]\n"
          ]
        }
      ]
    },
    {
      "cell_type": "code",
      "source": [
        "#(c) Delete the value at index=5\n",
        "del lst1[5]\n",
        "print(lst1)\n"
      ],
      "metadata": {
        "colab": {
          "base_uri": "https://localhost:8080/"
        },
        "id": "fsP86O9mrpki",
        "outputId": "24bd96dd-1e06-4880-b8fa-0d9fbf284e8f"
      },
      "execution_count": 56,
      "outputs": [
        {
          "output_type": "stream",
          "name": "stdout",
          "text": [
            "[19, 10, 55, 31, 32, 29, 10, 65, 77]\n"
          ]
        }
      ]
    },
    {
      "cell_type": "code",
      "source": [
        "#(d) Modify the value at index=9 as 300\n",
        "lst1.append(300)                          #list assignment index out of range when working with the list after step c\n",
        "print(lst1)\n"
      ],
      "metadata": {
        "colab": {
          "base_uri": "https://localhost:8080/"
        },
        "id": "Okvu3yXzr8hY",
        "outputId": "73d29fca-d0e8-4a5d-a7f1-62dfbeaa7508"
      },
      "execution_count": 57,
      "outputs": [
        {
          "output_type": "stream",
          "name": "stdout",
          "text": [
            "[19, 10, 55, 31, 32, 29, 10, 65, 77, 300]\n"
          ]
        }
      ]
    },
    {
      "cell_type": "code",
      "source": [
        "# (e) Add 200 at index=2\n",
        "lst1.insert(2, 200)\n",
        "print(lst1)\n"
      ],
      "metadata": {
        "colab": {
          "base_uri": "https://localhost:8080/"
        },
        "id": "lvFNNlIbsQ1H",
        "outputId": "fc3fb58c-9a8d-400b-b13f-dba8cd8b3234"
      },
      "execution_count": 58,
      "outputs": [
        {
          "output_type": "stream",
          "name": "stdout",
          "text": [
            "[19, 10, 200, 55, 31, 32, 29, 10, 65, 77, 300]\n"
          ]
        }
      ]
    },
    {
      "cell_type": "code",
      "source": [
        "#(f)\n",
        "print(\"Final list:\", lst1)\n",
        "print(\"Length of the list:\", len(lst1))\n",
        "print(\"Maximum value in the list:\", max(lst1))\n",
        "print(\"Sum of all elements in the list:\", sum(lst1))\n",
        "\n"
      ],
      "metadata": {
        "colab": {
          "base_uri": "https://localhost:8080/"
        },
        "id": "kxhMPfwWs1pp",
        "outputId": "12f4583f-22b1-48d0-e7b9-00c89511c8af"
      },
      "execution_count": 75,
      "outputs": [
        {
          "output_type": "stream",
          "name": "stdout",
          "text": [
            "Final list: [19, 10, 200, 55, 31, 32, 29, 10, 65, 77, 300]\n",
            "Length of the list: 11\n",
            "Maximum value in the list: 300\n",
            "Sum of all elements in the list: 828\n"
          ]
        }
      ]
    },
    {
      "cell_type": "markdown",
      "source": [
        "5.Consider a string ”The day has been long”.\n",
        "(a) Delete the value at index =4\n",
        "(b) Print the string 4 times in a single line with space\n",
        "between each repetition\n",
        "(c) Print the string 3 times in a new line each time\n",
        "(d) Modify the string at index 7 as ’A’\n",
        "(e) Print the string from index 4 to 15\n",
        "(f) Print the final string with its length"
      ],
      "metadata": {
        "id": "jNiGPF05_1gt"
      }
    },
    {
      "cell_type": "code",
      "source": [
        "str1 = \"The day has been long\"\n",
        "# (a) Delete the value at index = 4\n",
        "str1 = str1[:4] + str1[5:]\n",
        "print(str1)"
      ],
      "metadata": {
        "colab": {
          "base_uri": "https://localhost:8080/"
        },
        "id": "DkRqTUMhtM2i",
        "outputId": "b17e927b-802d-494e-fe01-5b1748efb1d5"
      },
      "execution_count": 62,
      "outputs": [
        {
          "output_type": "stream",
          "name": "stdout",
          "text": [
            "The ay has been long\n"
          ]
        }
      ]
    },
    {
      "cell_type": "code",
      "source": [
        "# (b) Print the string 4 times in a single line with space between each repetition\n",
        "print((str1 + \" \") * 4)"
      ],
      "metadata": {
        "colab": {
          "base_uri": "https://localhost:8080/"
        },
        "id": "EMk-E44R8TUx",
        "outputId": "0e49a014-ea63-4140-d60b-4551fe6b92a8"
      },
      "execution_count": 63,
      "outputs": [
        {
          "output_type": "stream",
          "name": "stdout",
          "text": [
            "The ay has been long The ay has been long The ay has been long The ay has been long \n"
          ]
        }
      ]
    },
    {
      "cell_type": "code",
      "source": [
        "#(c) Print the string 3 times in a new line each time\n",
        "print(str1 + \"\\n\" + str1 + \"\\n\" + str1)\n"
      ],
      "metadata": {
        "colab": {
          "base_uri": "https://localhost:8080/"
        },
        "id": "nPUIr-Lf9cUi",
        "outputId": "b6233680-6e54-41dc-f2de-85c0e2da3534"
      },
      "execution_count": 70,
      "outputs": [
        {
          "output_type": "stream",
          "name": "stdout",
          "text": [
            "The ay has been long\n",
            "The ay has been long\n",
            "The ay has been long\n"
          ]
        }
      ]
    },
    {
      "cell_type": "code",
      "source": [
        "#(d) Modify the string at index 7 as ’A’\n",
        "str1 = str1[:7] + 'A' + str1[8:]\n",
        "print(str1)"
      ],
      "metadata": {
        "colab": {
          "base_uri": "https://localhost:8080/"
        },
        "id": "VaIIrR13-jvW",
        "outputId": "4e8856f9-8d9b-4b1f-ab99-8ea112962888"
      },
      "execution_count": 72,
      "outputs": [
        {
          "output_type": "stream",
          "name": "stdout",
          "text": [
            "The ay Aas been long\n"
          ]
        }
      ]
    },
    {
      "cell_type": "code",
      "source": [
        "#(e) Print the string from index 4 to 15\n",
        "print(str1[4:16])\n"
      ],
      "metadata": {
        "colab": {
          "base_uri": "https://localhost:8080/"
        },
        "id": "S7n_OT0z_GPJ",
        "outputId": "caa1ea04-afe2-4f1e-a50c-732c280782c6"
      },
      "execution_count": 73,
      "outputs": [
        {
          "output_type": "stream",
          "name": "stdout",
          "text": [
            "ay Aas been \n"
          ]
        }
      ]
    },
    {
      "cell_type": "code",
      "source": [
        "#(f) Print the final string with its length\n",
        "print(\"Final string:\", str1)\n",
        "print(\"Length of the string:\", len(str1))"
      ],
      "metadata": {
        "colab": {
          "base_uri": "https://localhost:8080/"
        },
        "id": "rspeOeZr_aVB",
        "outputId": "c3a46e0f-1438-4292-8eee-83f3e050030a"
      },
      "execution_count": 74,
      "outputs": [
        {
          "output_type": "stream",
          "name": "stdout",
          "text": [
            "Final string: The ay Aas been long\n",
            "Length of the string: 20\n"
          ]
        }
      ]
    }
  ]
}